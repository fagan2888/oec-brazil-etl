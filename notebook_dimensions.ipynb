{
 "cells": [
  {
   "cell_type": "markdown",
   "metadata": {},
   "source": [
    "### Time Dimension"
   ]
  },
  {
   "cell_type": "code",
   "execution_count": 21,
   "metadata": {},
   "outputs": [
    {
     "name": "stdout",
     "output_type": "stream",
     "text": [
      "   month month_name  quarter quarter_name  time_id  year \n",
      "0      1    January        1           Q1   199501   1995\n",
      "1      2   February        1           Q1   199502   1995\n",
      "2      3      March        1           Q1   199503   1995\n",
      "3      4      April        2           Q2   199504   1995\n",
      "4      5        May        2           Q2   199505   1995\n",
      "month           False\n",
      "month_name      False\n",
      "quarter         False\n",
      "quarter_name    False\n",
      "time_id         False\n",
      "year            False\n",
      "dtype: bool\n",
      "month            int64\n",
      "month_name      object\n",
      "quarter          int64\n",
      "quarter_name    object\n",
      "time_id          int64\n",
      "year             int64\n",
      "dtype: object\n"
     ]
    }
   ],
   "source": [
    "import pandas as pd\n",
    "\n",
    "#Creation Step\n",
    "df = pd.read_csv(\"./resources/shared_time.csv\")\n",
    "df.to_csv(\"./dimension_tables/time_table.csv\", index=False)\n",
    "\n",
    "print(df.head())\n",
    "print(df.isnull().any())\n",
    "print(df.dtypes)"
   ]
  },
  {
   "cell_type": "markdown",
   "metadata": {},
   "source": [
    "### Product Dimension"
   ]
  },
  {
   "cell_type": "code",
   "execution_count": 22,
   "metadata": {},
   "outputs": [
    {
     "name": "stdout",
     "output_type": "stream",
     "text": [
      "   chapter     chapter_name  hs2       hs2_name  hs4         hs4_name  \\\n",
      "0        1  Animal Products    1  Animals; live  101           Horses   \n",
      "1        1  Animal Products    1  Animals; live  102           Bovine   \n",
      "2        1  Animal Products    1  Animals; live  103             Pigs   \n",
      "3        1  Animal Products    1  Animals; live  104  Sheep and Goats   \n",
      "4        1  Animal Products    1  Animals; live  105          Poultry   \n",
      "\n",
      "   chapter_id  hs2_id  hs4_id  \n",
      "0           1     101   10101  \n",
      "1           1     101   10102  \n",
      "2           1     101   10103  \n",
      "3           1     101   10104  \n",
      "4           1     101   10105  \n",
      "chapter         False\n",
      "chapter_name    False\n",
      "hs2             False\n",
      "hs2_name        False\n",
      "hs4             False\n",
      "hs4_name        False\n",
      "chapter_id      False\n",
      "hs2_id          False\n",
      "hs4_id          False\n",
      "dtype: bool\n",
      "chapter          int64\n",
      "chapter_name    object\n",
      "hs2              int64\n",
      "hs2_name        object\n",
      "hs4              int64\n",
      "hs4_name        object\n",
      "chapter_id       int64\n",
      "hs2_id           int64\n",
      "hs4_id           int64\n",
      "dtype: object\n"
     ]
    }
   ],
   "source": [
    "import pandas as pd\n",
    "\n",
    "df = pd.read_csv(\"./resources/shared_hs92.csv\")\n",
    "df = df.drop(columns=[\"hs6\",\"hs6_name\",\"hs6_id\"])\n",
    "df = df.drop_duplicates(subset=\"hs4_id\").reset_index(drop=True)\n",
    "df.to_csv(\"./dimension_tables/product_table.csv\", index=False)\n",
    "\n",
    "print(df.head())\n",
    "print(df.isnull().any())\n",
    "print(df.dtypes)"
   ]
  },
  {
   "cell_type": "markdown",
   "metadata": {},
   "source": [
    "### Country Dimension"
   ]
  },
  {
   "cell_type": "code",
   "execution_count": 23,
   "metadata": {},
   "outputs": [
    {
     "name": "stdout",
     "output_type": "stream",
     "text": [
      "     color continent     id  id_num iso2 iso3            name\n",
      "0  #c8140a        as  asafg       4   af  afg     Afghanistan\n",
      "1  #752277        eu  eualb       8   al  alb         Albania\n",
      "2  #ffc41c        af  afdza      12   dz  dza         Algeria\n",
      "3  #e87600        oc  ocasm      16   as  asm  American Samoa\n",
      "4  #752277        eu  euand      20   ad  and         Andorra\n",
      "color        False\n",
      "continent    False\n",
      "id           False\n",
      "id_num       False\n",
      "iso2         False\n",
      "iso3         False\n",
      "name         False\n",
      "dtype: bool\n",
      "color        object\n",
      "continent    object\n",
      "id           object\n",
      "id_num        int64\n",
      "iso2         object\n",
      "iso3         object\n",
      "name         object\n",
      "dtype: object\n"
     ]
    }
   ],
   "source": [
    "import pandas as pd\n",
    "\n",
    "df = pd.read_csv(\"./resources/shared_countries.csv\")\n",
    "df.to_csv(\"./dimension_tables/country_table.csv\", index=False)\n",
    "\n",
    "print(df.head())\n",
    "print(df.isnull().any())\n",
    "print(df.dtypes)"
   ]
  },
  {
   "cell_type": "markdown",
   "metadata": {},
   "source": [
    "### State Dimension"
   ]
  },
  {
   "cell_type": "code",
   "execution_count": 24,
   "metadata": {},
   "outputs": [
    {
     "name": "stdout",
     "output_type": "stream",
     "text": [
      "   state_id state_code state_name   region_name\n",
      "0        11         ro   Rondônia  Regiao Norte\n",
      "1        12         ac       Acre  Regiao Norte\n",
      "2        13         am   Amazonas  Regiao Norte\n",
      "3        14         rr    Roraima  Regiao Norte\n",
      "4        15         pa       Pará  Regiao Norte\n",
      "state_id       False\n",
      "state_code     False\n",
      "state_name     False\n",
      "region_name    False\n",
      "dtype: bool\n",
      "state_id        int64\n",
      "state_code     object\n",
      "state_name     object\n",
      "region_name    object\n",
      "dtype: object\n"
     ]
    }
   ],
   "source": [
    "import pandas as pd\n",
    "\n",
    "df = pd.read_csv(\"./resources/UF.csv\", sep=\";\", encoding=\"latin-1\")\n",
    "df[\"NO_REGIAO\"] = df[\"NO_REGIAO\"].str.title()\n",
    "df[\"SG_UF\"] = df[\"SG_UF\"].str.lower()\n",
    "df = df.rename(columns={\"CO_UF\":\"state_id\",\"SG_UF\":\"state_code\",\"NO_UF\":\"state_name\",\"NO_REGIAO\":\"region_name\"})\n",
    "\n",
    "print(df.head())\n",
    "print(df.isnull().any())\n",
    "print(df.dtypes)"
   ]
  },
  {
   "cell_type": "markdown",
   "metadata": {},
   "source": [
    "### Municipality Dimension"
   ]
  },
  {
   "cell_type": "code",
   "execution_count": 25,
   "metadata": {},
   "outputs": [
    {
     "name": "stdout",
     "output_type": "stream",
     "text": [
      "   municipality_id municipality_name state_code\n",
      "0          2308401      Missão Velha         ce\n",
      "1          2308500           Mombaça         ce\n",
      "2          2308609  Monsenhor Tabosa         ce\n",
      "3          2308708       Morada Nova         ce\n",
      "4          2308807           Moraújo         ce\n",
      "municipality_id      False\n",
      "municipality_name    False\n",
      "state_code           False\n",
      "dtype: bool\n",
      "municipality_id       int64\n",
      "municipality_name    object\n",
      "state_code           object\n",
      "dtype: object\n"
     ]
    }
   ],
   "source": [
    "import pandas as pd\n",
    "\n",
    "df = pd.read_csv(\"./resources/UF_MUN.csv\", sep=\";\", encoding=\"latin-1\")\n",
    "df = df.rename(columns={\"CO_MUN_GEO\":\"municipality_id\",\"NO_MUN_MIN\":\"municipality_name\",\"SG_UF\":\"state_code\"})\n",
    "df = df.drop(columns=\"NO_MUN\")\n",
    "df[\"state_code\"] = df[\"state_code\"].str.lower()\n",
    "df.to_csv(\"./dimension_tables/municipality_table.csv\", index=False)\n",
    "\n",
    "print(df.head())\n",
    "print(df.isnull().any())\n",
    "print(df.dtypes)"
   ]
  },
  {
   "cell_type": "markdown",
   "metadata": {},
   "source": [
    "### Flow Dimension"
   ]
  },
  {
   "cell_type": "code",
   "execution_count": 26,
   "metadata": {},
   "outputs": [
    {
     "name": "stdout",
     "output_type": "stream",
     "text": [
      "   flow_id flow_name\n",
      "0        1   Exports\n",
      "1        2   Imports\n",
      "flow_id      False\n",
      "flow_name    False\n",
      "dtype: bool\n",
      "flow_id       int64\n",
      "flow_name    object\n",
      "dtype: object\n"
     ]
    }
   ],
   "source": [
    "import pandas as pd\n",
    "\n",
    "df = pd.DataFrame({\"flow_id\":[1,2], \"flow_name\":[\"Exports\",\"Imports\"]})\n",
    "df.to_csv(\"./dimension_tables/flow_table.csv\", index=False)\n",
    "\n",
    "print(df.head())\n",
    "print(df.isnull().any())\n",
    "print(df.dtypes)"
   ]
  },
  {
   "cell_type": "code",
   "execution_count": null,
   "metadata": {},
   "outputs": [],
   "source": []
  }
 ],
 "metadata": {
  "kernelspec": {
   "display_name": "Python 3",
   "language": "python",
   "name": "python3"
  },
  "language_info": {
   "codemirror_mode": {
    "name": "ipython",
    "version": 3
   },
   "file_extension": ".py",
   "mimetype": "text/x-python",
   "name": "python",
   "nbconvert_exporter": "python",
   "pygments_lexer": "ipython3",
   "version": "3.7.0"
  }
 },
 "nbformat": 4,
 "nbformat_minor": 2
}
